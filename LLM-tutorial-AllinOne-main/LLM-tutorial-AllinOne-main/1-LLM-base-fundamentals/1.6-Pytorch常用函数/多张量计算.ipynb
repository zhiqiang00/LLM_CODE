{
 "cells": [
  {
   "cell_type": "markdown",
   "metadata": {},
   "source": [
    "# torch.outer\n",
    "在PyTorch中，`torch.outer`函数用于计算两个一维张量（向量）的外积。如果输入向量`input`的大小为`n`，而向量`vec2`的大小为`m`，那么输出的结果将是一个`n x m`的矩阵。这个函数不支持广播操作。\n",
    "\n"
   ]
  },
  {
   "cell_type": "markdown",
   "metadata": {},
   "source": [
    "## 代码示例\n",
    "\n",
    "下面是使用_torch.outer_函数的一个简单示例, 输出的结果将是一个4x3的矩阵："
   ]
  },
  {
   "cell_type": "code",
   "execution_count": 2,
   "metadata": {},
   "outputs": [
    {
     "name": "stdout",
     "output_type": "stream",
     "text": [
      "v1: tensor([1., 2., 3., 4.])\n",
      "v2: tensor([1., 2., 3.])\n",
      "tensor([[ 1.,  2.,  3.],\n",
      "        [ 2.,  4.,  6.],\n",
      "        [ 3.,  6.,  9.],\n",
      "        [ 4.,  8., 12.]])\n"
     ]
    }
   ],
   "source": [
    "import torch\n",
    "\n",
    "# 创建两个一维张量\n",
    "v1 = torch.arange(1., 5.)\n",
    "v2 = torch.arange(1., 4.)\n",
    "print(f\"v1: {v1}\")\n",
    "print(f\"v2: {v2}\")\n",
    "# 计算外积\n",
    "result = torch.outer(v1, v2)\n",
    "\n",
    "# 输出结果\n",
    "print(result)"
   ]
  },
  {
   "cell_type": "markdown",
   "metadata": {},
   "source": [
    "## 注意事项\n",
    "\n",
    "*   `torch.outer`函数接受两个参数`input`和`vec2`，它们都应该是一维的张量。\n",
    "    \n",
    "*   可以通过关键字参数_out_指定一个可选的输出矩阵，如果提供了这个参数，计算的结果将被写入这个矩阵中。\n",
    "    \n",
    "*   在PyTorch 1.7.0版本之前，这个函数被称为`torch.ger`，但在后续版本中被重命名为`torch.outer`。如果你使用的是PyTorch 1.7.0之前的版本，你应该使用`torch.ger`函数。\n",
    "    \n",
    "\n",
    "应用场景\n",
    "\n",
    "`torch.outer`函数在深度学习和机器学习中有广泛的应用，特别是在需要计算权重矩阵或者进行某些特定类型的矩阵运算时。它是一个基础的线性代数工具，可以用于构建更复杂的算法和模型。"
   ]
  },
  {
   "cell_type": "code",
   "execution_count": null,
   "metadata": {},
   "outputs": [],
   "source": []
  }
 ],
 "metadata": {
  "kernelspec": {
   "display_name": "gpt",
   "language": "python",
   "name": "python3"
  },
  "language_info": {
   "codemirror_mode": {
    "name": "ipython",
    "version": 3
   },
   "file_extension": ".py",
   "mimetype": "text/x-python",
   "name": "python",
   "nbconvert_exporter": "python",
   "pygments_lexer": "ipython3",
   "version": "3.10.15"
  }
 },
 "nbformat": 4,
 "nbformat_minor": 2
}
