{
 "cells": [
  {
   "cell_type": "markdown",
   "metadata": {},
   "source": [
    "# torch.multinomial\n",
    "\n",
    "在 PyTorch 中，`torch.multinomial` 函数是用于根据**概率分布进行采样**的工具。它接受一个包含概率的张量作为输入，并返回一个张量，其中每行包含从相应输入行的多项式概率分布中采样的 num_samples 个索引。\n",
    "\n",
    "## 函数的基本用法\n",
    "torch.multinomial 函数的基本用法如下：\n",
    "```python\n",
    "torch.multinomial(input, num_samples, replacement=False, *, generator=None, out=None) → LongTensor\n",
    "```\n",
    "\n",
    "## 输入参数\n",
    "- input：包含概率的张量，不需要总和为一，但必须是非负的、有限的，并且总和不为零。\n",
    "- num_samples：要抽取的样本数量。\n",
    "- replacement：是否有放回地抽取样本。如果为 True，则允许重复抽取；如果为 False，则不允许重复抽取。\n",
    "- generator：用于采样的伪随机数生成器。\n",
    "\n",
    "## 输出\n",
    "out：输出张量。\n",
    "\n",
    "\n",
    "\n",
    "\n"
   ]
  },
  {
   "cell_type": "markdown",
   "metadata": {},
   "source": [
    "## 示例\n",
    "\n",
    "以下是一些使用 torch.multinomial 函数的示例："
   ]
  },
  {
   "cell_type": "code",
   "execution_count": 73,
   "metadata": {},
   "outputs": [
    {
     "name": "stdout",
     "output_type": "stream",
     "text": [
      "tensor([0])\n",
      "tensor([3, 0])\n",
      "tensor([0, 0, 2, 0])\n"
     ]
    }
   ],
   "source": [
    "import torch\n",
    "# 创建一个包含权重的张量\n",
    "weights = torch.tensor([0.8, 0.1, 0.05, 0.01, 0.04, 0], dtype=torch.float)\n",
    "\n",
    "# 无放回地抽取2个样本\n",
    "samples = torch.multinomial(weights, 1)\n",
    "print(samples)\n",
    "\n",
    "# 无放回地抽取2个样本\n",
    "samples = torch.multinomial(weights, 2)\n",
    "print(samples) # 输出可能是 tensor([1, 2])\n",
    "\n",
    "# 有放回地抽取4个样本\n",
    "samples = torch.multinomial(weights, 4, replacement=True)\n",
    "print(samples) # 输出可能是 tensor([2, 1, 1, 1])"
   ]
  },
  {
   "cell_type": "markdown",
   "metadata": {},
   "source": [
    "在这个例子中，权重张量 weights 表示每个元素的抽取概率。由于某些元素的权重为零，它们在其他非零元素被抽取完之前不会被抽取。当 replacement 参数设置为 False 时，num_samples 的值必须小于非零元素的数量；否则，会引发错误。\n",
    "\n"
   ]
  },
  {
   "cell_type": "markdown",
   "metadata": {},
   "source": [
    "## 注意事项\n",
    "\n",
    "当使用无放回抽样时，num_samples 必须小于输入张量中非零元素的数量。\n",
    "\n",
    "抽取的索引是从左到右排序的，根据它们被抽取的顺序。\n",
    "\n",
    "如果输入是向量，输出也是向量；如果输入是矩阵，输出是形状为 (m, num_samples) 的矩阵，其中 m 是输入矩阵的行数。\n",
    "\n",
    "`torch.multinomial` 是在概率分布下进行采样的有效工具，特别是在处理诸如强化学习或随机决策过程中的随机性时。"
   ]
  },
  {
   "cell_type": "code",
   "execution_count": null,
   "metadata": {},
   "outputs": [],
   "source": []
  }
 ],
 "metadata": {
  "kernelspec": {
   "display_name": "gpt",
   "language": "python",
   "name": "python3"
  },
  "language_info": {
   "codemirror_mode": {
    "name": "ipython",
    "version": 3
   },
   "file_extension": ".py",
   "mimetype": "text/x-python",
   "name": "python",
   "nbconvert_exporter": "python",
   "pygments_lexer": "ipython3",
   "version": "3.10.15"
  }
 },
 "nbformat": 4,
 "nbformat_minor": 2
}
