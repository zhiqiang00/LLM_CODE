{
 "cells": [
  {
   "cell_type": "markdown",
   "metadata": {},
   "source": [
    "# LLaMA微调\n",
    "接下来讲的是采用`LoRA`微调的方式，微调LLaMA模型。\n",
    "\n",
    "关于`LoRA`微调的详细解读见：[7-Fine-tuning/7.7-Lora/LoRA.ipynb](../../7-Fine-tuning/7.7-Lora/LoRA.ipynb)"
   ]
  },
  {
   "cell_type": "code",
   "execution_count": null,
   "metadata": {},
   "outputs": [],
   "source": []
  }
 ],
 "metadata": {
  "language_info": {
   "name": "python"
  }
 },
 "nbformat": 4,
 "nbformat_minor": 2
}
