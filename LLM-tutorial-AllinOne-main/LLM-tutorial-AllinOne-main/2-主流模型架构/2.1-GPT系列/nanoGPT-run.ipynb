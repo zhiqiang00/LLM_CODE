{
 "cells": [
  {
   "cell_type": "markdown",
   "id": "9f61e659",
   "metadata": {},
   "source": [
    "### 下面是对[nanoGPT](https://github.com/karpathy/nanoGPT)代码的解读\n",
    "[nanoGPT](https://github.com/karpathy/nanoGPT)是用于训练/微调中型 GPT 的最简单、最快速的仓库。`train.py` 在 `OpenWebText` 上重现了 `GPT-2（124M）`，在单个 `8XA100 40GB` 节点上大约经过 `4` 天的训练。代码本身简单易读：`train.py` 是一个基本训练循环，`model.py` 是一个 GPT 模型定义，可以选择从 OpenAI 加载 GPT-2 权重。\n",
    "\n"
   ]
  },
  {
   "cell_type": "markdown",
   "id": "a3073b80",
   "metadata": {},
   "source": [
    "# GPT实现"
   ]
  },
  {
   "cell_type": "code",
   "execution_count": 1,
   "id": "1e0d62c3",
   "metadata": {},
   "outputs": [],
   "source": [
    "# 导包\n",
    "import os\n",
    "import time\n",
    "import math\n",
    "import pickle\n",
    "from contextlib import nullcontext\n",
    "import numpy as np\n",
    "import inspect\n",
    "from dataclasses import dataclass\n",
    "\n",
    "import torch\n",
    "import torch.nn as nn\n",
    "from torch.nn import functional as F\n",
    "from torch.nn.parallel import DistributedDataParallel as DDP\n",
    "from torch.distributed import init_process_group, destroy_process_group"
   ]
  },
  {
   "cell_type": "markdown",
   "id": "b04b40ea",
   "metadata": {},
   "source": [
    "## 因果注意力模块实现"
   ]
  },
  {
   "cell_type": "code",
   "execution_count": 2,
   "id": "8fd811b0",
   "metadata": {},
   "outputs": [],
   "source": [
    "class CausalSelfAttention(nn.Module):\n",
    "    def __init__(self, config):\n",
    "        super().__init__()\n",
    "        assert config.n_embd % config.n_head == 0\n",
    "        # key, query, value projections for all heads, but in a batch\n",
    "        self.c_attn = nn.Linear(config.n_embd, 3 * config.n_embd, bias=config.bias)\n",
    "        # output projection\n",
    "        self.c_proj = nn.Linear(config.n_embd, config.n_embd, bias=config.bias)\n",
    "        # regularization\n",
    "        self.attn_dropout = nn.Dropout(config.dropout)\n",
    "        self.resid_dropout = nn.Dropout(config.dropout)\n",
    "        self.n_head = config.n_head\n",
    "        self.n_embd = config.n_embd\n",
    "        self.dropout = config.dropout\n",
    "        # flash attention make GPU go brrrrr but support is only in PyTorch >= 2.0\n",
    "        self.flash = hasattr(torch.nn.functional, 'scaled_dot_product_attention')\n",
    "        if not self.flash:\n",
    "            print(\"WARNING: using slow attention. Flash Attention requires PyTorch >= 2.0\")\n",
    "            # causal mask to ensure that attention is only applied to the left in the input sequence\n",
    "            self.register_buffer(\"bias\", torch.tril(torch.ones(config.block_size, config.block_size))\n",
    "                                        .view(1, 1, config.block_size, config.block_size))\n",
    "\n",
    "    def forward(self, x):\n",
    "        B, T, C = x.size() # batch size, sequence length, embedding dimensionality (n_embd)\n",
    "\n",
    "        # calculate query, key, values for all heads in batch and move head forward to be the batch dim\n",
    "        q, k, v  = self.c_attn(x).split(self.n_embd, dim=2)\n",
    "        k = k.view(B, T, self.n_head, C // self.n_head).transpose(1, 2) # (B, nh, T, hs)\n",
    "        q = q.view(B, T, self.n_head, C // self.n_head).transpose(1, 2) # (B, nh, T, hs)\n",
    "        v = v.view(B, T, self.n_head, C // self.n_head).transpose(1, 2) # (B, nh, T, hs)\n",
    "\n",
    "        # causal self-attention; Self-attend: (B, nh, T, hs) x (B, nh, hs, T) -> (B, nh, T, T)\n",
    "        if self.flash:\n",
    "            # efficient attention using Flash Attention CUDA kernels\n",
    "            y = torch.nn.functional.scaled_dot_product_attention(q, k, v, attn_mask=None, dropout_p=self.dropout if self.training else 0, is_causal=True)\n",
    "        else:\n",
    "            # manual implementation of attention\n",
    "            att = (q @ k.transpose(-2, -1)) * (1.0 / math.sqrt(k.size(-1)))\n",
    "            att = att.masked_fill(self.bias[:,:,:T,:T] == 0, float('-inf'))\n",
    "            att = F.softmax(att, dim=-1)\n",
    "            att = self.attn_dropout(att)\n",
    "            y = att @ v # (B, nh, T, T) x (B, nh, T, hs) -> (B, nh, T, hs)\n",
    "        y = y.transpose(1, 2).contiguous().view(B, T, C) # re-assemble all head outputs side by side\n",
    "\n",
    "        # output projection\n",
    "        y = self.resid_dropout(self.c_proj(y))\n",
    "        return y\n"
   ]
  },
  {
   "cell_type": "markdown",
   "id": "25f79e34",
   "metadata": {},
   "source": [
    "## LayerNorm实现\n",
    "使用的是`torch.nn.functional.layer_norm`中的`layer_norm`方法实现，"
   ]
  },
  {
   "cell_type": "code",
   "execution_count": 3,
   "id": "8b2a8abe",
   "metadata": {},
   "outputs": [],
   "source": [
    "class LayerNorm(nn.Module):\n",
    "    \"\"\" LayerNorm but with an optional bias. PyTorch doesn't support simply bias=False \"\"\"\n",
    "\n",
    "    def __init__(self, ndim, bias):\n",
    "        super().__init__()\n",
    "        self.weight = nn.Parameter(torch.ones(ndim))\n",
    "        self.bias = nn.Parameter(torch.zeros(ndim)) if bias else None\n",
    "\n",
    "    def forward(self, input):\n",
    "        return F.layer_norm(input, self.weight.shape, self.weight, self.bias, 1e-5)"
   ]
  },
  {
   "cell_type": "markdown",
   "id": "70883eee",
   "metadata": {},
   "source": [
    "## MLP实现\n",
    "需要注意，激活函数使用的是`GELU`"
   ]
  },
  {
   "cell_type": "code",
   "execution_count": 4,
   "id": "40695728",
   "metadata": {},
   "outputs": [],
   "source": [
    "class MLP(nn.Module):\n",
    "    def __init__(self, config):\n",
    "        super().__init__()\n",
    "        self.c_fc    = nn.Linear(config.n_embd, 4 * config.n_embd, bias=config.bias)\n",
    "        self.gelu    = nn.GELU()\n",
    "        self.c_proj  = nn.Linear(4 * config.n_embd, config.n_embd, bias=config.bias)\n",
    "        self.dropout = nn.Dropout(config.dropout)\n",
    "\n",
    "    def forward(self, x):\n",
    "        x = self.c_fc(x)\n",
    "        x = self.gelu(x)\n",
    "        x = self.c_proj(x)\n",
    "        x = self.dropout(x)\n",
    "        return x"
   ]
  },
  {
   "cell_type": "markdown",
   "id": "fd4d152c",
   "metadata": {},
   "source": [
    "## DecoderLayer实现\n",
    "一个DecoderLayer包含一个`CausalSelfAttention`和`MLP`，后面分别都接一个`LayerNorm`。下面的代码实现中`DecoderLayer`命名为`Block`。"
   ]
  },
  {
   "cell_type": "code",
   "execution_count": 5,
   "id": "e1f3f91e",
   "metadata": {},
   "outputs": [],
   "source": [
    "class Block(nn.Module):\n",
    "\n",
    "    def __init__(self, config):\n",
    "        super().__init__()\n",
    "        self.ln_1 = LayerNorm(config.n_embd, bias=config.bias)\n",
    "        self.attn = CausalSelfAttention(config)\n",
    "        self.ln_2 = LayerNorm(config.n_embd, bias=config.bias)\n",
    "        self.mlp = MLP(config)\n",
    "\n",
    "    def forward(self, x):\n",
    "        x = x + self.attn(self.ln_1(x))\n",
    "        x = x + self.mlp(self.ln_2(x))\n",
    "        return x"
   ]
  },
  {
   "cell_type": "markdown",
   "id": "cdb7ad99",
   "metadata": {},
   "source": [
    "## GPTConfig\n",
    "定义了GPT的模型参数"
   ]
  },
  {
   "cell_type": "code",
   "execution_count": 6,
   "id": "1bdc9616",
   "metadata": {},
   "outputs": [],
   "source": [
    "@dataclass\n",
    "class GPTConfig:\n",
    "    block_size: int = 1024 # block_size表示的意思是模型处理的最大序列长度，默认为1024\n",
    "    vocab_size: int = 50304 # GPT-2 vocab_size of 50257, padded up to nearest multiple of 64 for efficiency\n",
    "    n_layer: int = 12\n",
    "    n_head: int = 12\n",
    "    n_embd: int = 768\n",
    "    dropout: float = 0.0\n",
    "    bias: bool = True # True: bias in Linears and LayerNorms, like GPT-2. False: a bit better and faster"
   ]
  },
  {
   "cell_type": "markdown",
   "id": "7860e66b",
   "metadata": {},
   "source": [
    "## GPT模型"
   ]
  },
  {
   "cell_type": "code",
   "execution_count": 7,
   "id": "50058e77",
   "metadata": {},
   "outputs": [],
   "source": [
    "class GPT(nn.Module):\n",
    "\n",
    "    def __init__(self, config):\n",
    "        super().__init__()\n",
    "        assert config.vocab_size is not None\n",
    "        assert config.block_size is not None\n",
    "        self.config = config\n",
    "\n",
    "        self.transformer = nn.ModuleDict(dict(\n",
    "            wte = nn.Embedding(config.vocab_size, config.n_embd), \n",
    "            wpe = nn.Embedding(config.block_size, config.n_embd),\n",
    "            drop = nn.Dropout(config.dropout),\n",
    "            h = nn.ModuleList([Block(config) for _ in range(config.n_layer)]),\n",
    "            ln_f = LayerNorm(config.n_embd, bias=config.bias),\n",
    "        ))\n",
    "        self.lm_head = nn.Linear(config.n_embd, config.vocab_size, bias=False)\n",
    "        # with weight tying when using torch.compile() some warnings get generated:\n",
    "        # \"UserWarning: functional_call was passed multiple values for tied weights.\n",
    "        # This behavior is deprecated and will be an error in future versions\"\n",
    "        # not 100% sure what this is, so far seems to be harmless. TODO investigate\n",
    "        self.transformer.wte.weight = self.lm_head.weight # https://paperswithcode.com/method/weight-tying\n",
    "\n",
    "        # init all weights\n",
    "        self.apply(self._init_weights)\n",
    "        # apply special scaled init to the residual projections, per GPT-2 paper\n",
    "        for pn, p in self.named_parameters():\n",
    "            if pn.endswith('c_proj.weight'):\n",
    "                torch.nn.init.normal_(p, mean=0.0, std=0.02/math.sqrt(2 * config.n_layer))\n",
    "\n",
    "        # report number of parameters\n",
    "        print(\"number of parameters: %.2fM\" % (self.get_num_params()/1e6,))\n",
    "\n",
    "    def get_num_params(self, non_embedding=True):\n",
    "        \"\"\"\n",
    "        Return the number of parameters in the model.\n",
    "        For non-embedding count (default), the position embeddings get subtracted.\n",
    "        The token embeddings would too, except due to the parameter sharing these\n",
    "        params are actually used as weights in the final layer, so we include them.\n",
    "        \"\"\"\n",
    "        n_params = sum(p.numel() for p in self.parameters())\n",
    "        if non_embedding:\n",
    "            n_params -= self.transformer.wpe.weight.numel()\n",
    "        return n_params\n",
    "\n",
    "    def _init_weights(self, module):\n",
    "        if isinstance(module, nn.Linear):\n",
    "            torch.nn.init.normal_(module.weight, mean=0.0, std=0.02)\n",
    "            if module.bias is not None:\n",
    "                torch.nn.init.zeros_(module.bias)\n",
    "        elif isinstance(module, nn.Embedding):\n",
    "            torch.nn.init.normal_(module.weight, mean=0.0, std=0.02)\n",
    "\n",
    "    def forward(self, idx, targets=None):\n",
    "        device = idx.device\n",
    "        b, t = idx.size()\n",
    "        assert t <= self.config.block_size, f\"Cannot forward sequence of length {t}, block size is only {self.config.block_size}\"\n",
    "        pos = torch.arange(0, t, dtype=torch.long, device=device) # shape (t)\n",
    "\n",
    "        # forward the GPT model itself\n",
    "        tok_emb = self.transformer.wte(idx) # token embeddings of shape (b, t, n_embd)\n",
    "        pos_emb = self.transformer.wpe(pos) # position embeddings of shape (t, n_embd)\n",
    "        x = self.transformer.drop(tok_emb + pos_emb)\n",
    "        for block in self.transformer.h:\n",
    "            x = block(x)\n",
    "        x = self.transformer.ln_f(x)\n",
    "\n",
    "        if targets is not None:\n",
    "            # if we are given some desired targets also calculate the loss\n",
    "            logits = self.lm_head(x)\n",
    "            loss = F.cross_entropy(logits.view(-1, logits.size(-1)), targets.view(-1), ignore_index=-1)\n",
    "        else:\n",
    "            # inference-time mini-optimization: only forward the lm_head on the very last position\n",
    "            logits = self.lm_head(x[:, [-1], :]) # note: using list [-1] to preserve the time dim\n",
    "            loss = None\n",
    "\n",
    "        return logits, loss\n",
    "\n",
    "    def crop_block_size(self, block_size):\n",
    "        # model surgery to decrease the block size if necessary\n",
    "        # e.g. we may load the GPT2 pretrained model checkpoint (block size 1024)\n",
    "        # but want to use a smaller block size for some smaller, simpler model\n",
    "        assert block_size <= self.config.block_size\n",
    "        self.config.block_size = block_size\n",
    "        self.transformer.wpe.weight = nn.Parameter(self.transformer.wpe.weight[:block_size])\n",
    "        for block in self.transformer.h:\n",
    "            if hasattr(block.attn, 'bias'):\n",
    "                block.attn.bias = block.attn.bias[:,:,:block_size,:block_size]\n",
    "\n",
    "    @classmethod\n",
    "    def from_pretrained(cls, model_type, override_args=None):\n",
    "        assert model_type in {'gpt2', 'gpt2-medium', 'gpt2-large', 'gpt2-xl'}\n",
    "        override_args = override_args or {} # default to empty dict\n",
    "        # only dropout can be overridden see more notes below\n",
    "        assert all(k == 'dropout' for k in override_args)\n",
    "        from transformers import GPT2LMHeadModel\n",
    "        print(\"loading weights from pretrained gpt: %s\" % model_type)\n",
    "\n",
    "        # n_layer, n_head and n_embd are determined from model_type\n",
    "        config_args = {\n",
    "            'gpt2':         dict(n_layer=12, n_head=12, n_embd=768),  # 124M params\n",
    "            'gpt2-medium':  dict(n_layer=24, n_head=16, n_embd=1024), # 350M params\n",
    "            'gpt2-large':   dict(n_layer=36, n_head=20, n_embd=1280), # 774M params\n",
    "            'gpt2-xl':      dict(n_layer=48, n_head=25, n_embd=1600), # 1558M params\n",
    "        }[model_type]\n",
    "        print(\"forcing vocab_size=50257, block_size=1024, bias=True\")\n",
    "        config_args['vocab_size'] = 50257 # always 50257 for GPT model checkpoints\n",
    "        config_args['block_size'] = 1024 # always 1024 for GPT model checkpoints\n",
    "        config_args['bias'] = True # always True for GPT model checkpoints\n",
    "        # we can override the dropout rate, if desired\n",
    "        if 'dropout' in override_args:\n",
    "            print(f\"overriding dropout rate to {override_args['dropout']}\")\n",
    "            config_args['dropout'] = override_args['dropout']\n",
    "        # create a from-scratch initialized minGPT model\n",
    "        config = GPTConfig(**config_args)\n",
    "        model = GPT(config)\n",
    "        sd = model.state_dict()\n",
    "        sd_keys = sd.keys()\n",
    "        sd_keys = [k for k in sd_keys if not k.endswith('.attn.bias')] # discard this mask / buffer, not a param\n",
    "\n",
    "        # init a huggingface/transformers model\n",
    "        model_hf = GPT2LMHeadModel.from_pretrained(model_type)\n",
    "        sd_hf = model_hf.state_dict()\n",
    "\n",
    "        # copy while ensuring all of the parameters are aligned and match in names and shapes\n",
    "        sd_keys_hf = sd_hf.keys()\n",
    "        sd_keys_hf = [k for k in sd_keys_hf if not k.endswith('.attn.masked_bias')] # ignore these, just a buffer\n",
    "        sd_keys_hf = [k for k in sd_keys_hf if not k.endswith('.attn.bias')] # same, just the mask (buffer)\n",
    "        transposed = ['attn.c_attn.weight', 'attn.c_proj.weight', 'mlp.c_fc.weight', 'mlp.c_proj.weight']\n",
    "        # basically the openai checkpoints use a \"Conv1D\" module, but we only want to use a vanilla Linear\n",
    "        # this means that we have to transpose these weights when we import them\n",
    "        assert len(sd_keys_hf) == len(sd_keys), f\"mismatched keys: {len(sd_keys_hf)} != {len(sd_keys)}\"\n",
    "        for k in sd_keys_hf:\n",
    "            if any(k.endswith(w) for w in transposed):\n",
    "                # special treatment for the Conv1D weights we need to transpose\n",
    "                assert sd_hf[k].shape[::-1] == sd[k].shape\n",
    "                with torch.no_grad():\n",
    "                    sd[k].copy_(sd_hf[k].t())\n",
    "            else:\n",
    "                # vanilla copy over the other parameters\n",
    "                assert sd_hf[k].shape == sd[k].shape\n",
    "                with torch.no_grad():\n",
    "                    sd[k].copy_(sd_hf[k])\n",
    "\n",
    "        return model\n",
    "\n",
    "    def configure_optimizers(self, weight_decay, learning_rate, betas, device_type):\n",
    "        # start with all of the candidate parameters\n",
    "        param_dict = {pn: p for pn, p in self.named_parameters()}\n",
    "        # filter out those that do not require grad\n",
    "        param_dict = {pn: p for pn, p in param_dict.items() if p.requires_grad}\n",
    "        # create optim groups. Any parameters that is 2D will be weight decayed, otherwise no.\n",
    "        # i.e. all weight tensors in matmuls + embeddings decay, all biases and layernorms don't.\n",
    "        decay_params = [p for n, p in param_dict.items() if p.dim() >= 2]\n",
    "        nodecay_params = [p for n, p in param_dict.items() if p.dim() < 2]\n",
    "        optim_groups = [\n",
    "            {'params': decay_params, 'weight_decay': weight_decay},\n",
    "            {'params': nodecay_params, 'weight_decay': 0.0}\n",
    "        ]\n",
    "        num_decay_params = sum(p.numel() for p in decay_params)\n",
    "        num_nodecay_params = sum(p.numel() for p in nodecay_params)\n",
    "        print(f\"num decayed parameter tensors: {len(decay_params)}, with {num_decay_params:,} parameters\")\n",
    "        print(f\"num non-decayed parameter tensors: {len(nodecay_params)}, with {num_nodecay_params:,} parameters\")\n",
    "        # Create AdamW optimizer and use the fused version if it is available\n",
    "        fused_available = 'fused' in inspect.signature(torch.optim.AdamW).parameters\n",
    "        use_fused = fused_available and device_type == 'cuda'\n",
    "        extra_args = dict(fused=True) if use_fused else dict()\n",
    "        optimizer = torch.optim.AdamW(optim_groups, lr=learning_rate, betas=betas, **extra_args)\n",
    "        print(f\"using fused AdamW: {use_fused}\")\n",
    "\n",
    "        return optimizer\n",
    "\n",
    "    def estimate_mfu(self, fwdbwd_per_iter, dt):\n",
    "        \"\"\" estimate model flops utilization (MFU) in units of A100 bfloat16 peak FLOPS \"\"\"\n",
    "        # first estimate the number of flops we do per iteration.\n",
    "        # see PaLM paper Appendix B as ref: https://arxiv.org/abs/2204.02311\n",
    "        N = self.get_num_params()\n",
    "        cfg = self.config\n",
    "        L, H, Q, T = cfg.n_layer, cfg.n_head, cfg.n_embd//cfg.n_head, cfg.block_size\n",
    "        flops_per_token = 6*N + 12*L*H*Q*T\n",
    "        flops_per_fwdbwd = flops_per_token * T\n",
    "        flops_per_iter = flops_per_fwdbwd * fwdbwd_per_iter\n",
    "        # express our flops throughput as ratio of A100 bfloat16 peak flops\n",
    "        flops_achieved = flops_per_iter * (1.0/dt) # per second\n",
    "        flops_promised = 312e12 # A100 GPU bfloat16 peak flops is 312 TFLOPS\n",
    "        mfu = flops_achieved / flops_promised\n",
    "        return mfu\n",
    "\n",
    "    @torch.no_grad()\n",
    "    def generate(self, idx, max_new_tokens, temperature=1.0, top_k=None):\n",
    "        \"\"\"\n",
    "        Take a conditioning sequence of indices idx (LongTensor of shape (b,t)) and complete\n",
    "        the sequence max_new_tokens times, feeding the predictions back into the model each time.\n",
    "        Most likely you'll want to make sure to be in model.eval() mode of operation for this.\n",
    "        \"\"\"\n",
    "        for _ in range(max_new_tokens):\n",
    "            # if the sequence context is growing too long we must crop it at block_size\n",
    "            idx_cond = idx if idx.size(1) <= self.config.block_size else idx[:, -self.config.block_size:]\n",
    "            # forward the model to get the logits for the index in the sequence\n",
    "            logits, _ = self(idx_cond)\n",
    "            # pluck the logits at the final step and scale by desired temperature\n",
    "            logits = logits[:, -1, :] / temperature\n",
    "            # optionally crop the logits to only the top k options\n",
    "            if top_k is not None:\n",
    "                v, _ = torch.topk(logits, min(top_k, logits.size(-1)))\n",
    "                logits[logits < v[:, [-1]]] = -float('Inf')\n",
    "            # apply softmax to convert logits to (normalized) probabilities\n",
    "            probs = F.softmax(logits, dim=-1)\n",
    "            # sample from the distribution\n",
    "            idx_next = torch.multinomial(probs, num_samples=1)\n",
    "            # append sampled index to the running sequence and continue\n",
    "            idx = torch.cat((idx, idx_next), dim=1)\n",
    "\n",
    "        return idx\n"
   ]
  },
  {
   "cell_type": "markdown",
   "id": "5dbfa122",
   "metadata": {},
   "source": []
  },
  {
   "cell_type": "code",
   "execution_count": null,
   "id": "98c17bbe",
   "metadata": {},
   "outputs": [],
   "source": []
  },
  {
   "cell_type": "markdown",
   "id": "1fbf78e4",
   "metadata": {},
   "source": [
    "# 一、config"
   ]
  },
  {
   "cell_type": "code",
   "execution_count": 8,
   "id": "39c6b518",
   "metadata": {},
   "outputs": [
    {
     "name": "stderr",
     "output_type": "stream",
     "text": [
      "/home/libinbin/anaconda3/envs/gpt/lib/python3.10/site-packages/torch/cuda/__init__.py:129: UserWarning: CUDA initialization: The NVIDIA driver on your system is too old (found version 11070). Please update your GPU driver by downloading and installing a new version from the URL: http://www.nvidia.com/Download/index.aspx Alternatively, go to: https://pytorch.org to install a PyTorch version that has been compiled with your version of the CUDA driver. (Triggered internally at /opt/conda/conda-bld/pytorch_1729647382455/work/c10/cuda/CUDAFunctions.cpp:108.)\n",
      "  return torch._C._cuda_getDeviceCount() > 0\n"
     ]
    }
   ],
   "source": [
    "out_dir = 'out-test'\n",
    "eval_interval = 500\n",
    "log_interval = 4\n",
    "eval_iters = 10\n",
    "always_save_checkpoint = False # if True, always save a checkpoint after each eval\n",
    "init_from = 'scratch' # 'scratch' or 'resume' or 'gpt2*'\n",
    "# wandb logging\n",
    "wandb_log = False # disabled by default\n",
    "wandb_project = 'shakespeare-char'\n",
    "wandb_run_name = 'mini-gpt' # 'run' + str(time.time())\n",
    "# data\n",
    "dataset = 'shakespeare_char'\n",
    "gradient_accumulation_steps = 4 # used to simulate larger batch sizes\n",
    "batch_size = 16 # if gradient_accumulation_steps > 1, this is the micro-batch size\n",
    "block_size = 256  #text\n",
    "# 我很开心给\n",
    "# 大家做饭<eos>\n",
    "\n",
    "# model\n",
    "# n_layer = 2\n",
    "# n_head = 4\n",
    "# n_embd = 128\n",
    "n_layer = 12\n",
    "n_head = 12\n",
    "n_embd = 768\n",
    "dropout = 0.1 # for pretraining 0 is good, for finetuning try 0.1+\n",
    "bias = False # do we use bias inside LayerNorm and Linear layers?\n",
    "# adamw optimizer\n",
    "learning_rate = 1e-3 # max learning rate\n",
    "max_iters = 5000 # total number of training iterations\n",
    "weight_decay = 1e-1\n",
    "beta1 = 0.9\n",
    "beta2 = 0.99\n",
    "grad_clip = 1.0 # clip gradients at this value, or disable if == 0.0\n",
    "# learning rate decay settings\n",
    "decay_lr = True # whether to decay the learning rate\n",
    "warmup_iters = 100 # how many steps to warm up for\n",
    "lr_decay_iters = 5000 # should be ~= max_iters per Chinchilla\n",
    "min_lr = 1e-4 # minimum learning rate, should be ~= learning_rate/10 per Chinchilla\n",
    "# DDP settings\n",
    "backend = 'nccl' # 'nccl', 'gloo', etc.\n",
    "# system\n",
    "device = 'cuda' # examples: 'cpu', 'cuda', 'cuda:0', 'cuda:1' etc., or try 'mps' on macbooks\n",
    "dtype = 'bfloat16' if torch.cuda.is_available() and torch.cuda.is_bf16_supported() else 'float16' # 'float32', 'bfloat16', or 'float16', the latter will auto implement a GradScaler\n",
    "compile = True # use PyTorch 2.0 to compile the model to be faster\n",
    "# -----------------------------------------------------------------------------\n",
    "config_keys = [k for k,v in globals().items() if not k.startswith('_') and isinstance(v, (int, float, bool, str))]\n",
    "# exec(open('configurator.py').read()) # overrides from command line or config file\n",
    "config = {k: globals()[k] for k in config_keys} # will be useful for logging"
   ]
  },
  {
   "cell_type": "markdown",
   "id": "1f1c864c",
   "metadata": {},
   "source": [
    "下面是设置基本允许环境：\n",
    "- PyTorch中的`manual_seed`函数用于设置生成随机数的种子，以确保结果的**可重复性**。这在需要一致结果的实验中特别有用\n",
    "- `allow_tf32`的作用是是否允许`PyTorch`在内部使用`TensorFloat32`（TF32）的 **tensor core** (在NVIDIA GPU的新的Ampere架构开始使用) 来计算`matmul`（矩阵乘法和分批矩阵乘法）和`卷积`\n",
    "- `nullcontext`是一个非常简单的上下文管理器，它不执行任何操作。它的主要用途是在需要动态决定是否需要使用上下文管理器时作为一个占位符使用。"
   ]
  },
  {
   "cell_type": "code",
   "execution_count": 9,
   "id": "756b7aa0",
   "metadata": {},
   "outputs": [],
   "source": [
    "seed_offset = 0\n",
    "# os.makedirs(out_dir, exist_ok=True)\n",
    "torch.manual_seed(1337 + seed_offset)\n",
    "torch.backends.cuda.matmul.allow_tf32 = True # allow tf32 on matmul\n",
    "torch.backends.cudnn.allow_tf32 = True # allow tf32 on cudnn\n",
    "# device_type = 'cuda' if 'cuda' in device else 'cpu' # for later use in torch.autocast\n",
    "device_type = 'cpu'\n",
    "ptdtype = {'float32': torch.float32, 'bfloat16': torch.bfloat16, 'float16': torch.float16}[dtype]\n",
    "ctx = nullcontext() if device_type == 'cpu' else torch.amp.autocast(device_type=device_type, dtype=ptdtype)"
   ]
  },
  {
   "cell_type": "markdown",
   "id": "846b71d5",
   "metadata": {},
   "source": [
    "## 加载数据"
   ]
  },
  {
   "cell_type": "markdown",
   "id": "71a45ac7",
   "metadata": {},
   "source": [
    "下载数据：允许`./data/download.py`，下载`Shakespeare`数据集，并对数据进行预处理。按照`character-level`进行建模，所以这里不适用`BPE`进行编码， 而是直接将字符映射为整型。 将保存包含`id`的`train.bin`和`value.bin`，`meta.bin`包含`encoder`和`decoder`以及其他一些相关信息。"
   ]
  },
  {
   "cell_type": "code",
   "execution_count": 10,
   "id": "e8cca3a2",
   "metadata": {},
   "outputs": [
    {
     "data": {
      "text/plain": [
       "'data/shakespeare_char'"
      ]
     },
     "execution_count": 10,
     "metadata": {},
     "output_type": "execute_result"
    }
   ],
   "source": [
    "# data\n",
    "dataset = 'shakespeare_char'\n",
    "data_dir = os.path.join('data', dataset)\n",
    "data_dir"
   ]
  },
  {
   "cell_type": "code",
   "execution_count": 11,
   "id": "45b8fbe1",
   "metadata": {},
   "outputs": [
    {
     "name": "stdout",
     "output_type": "stream",
     "text": [
      "vocab_size = 65 (inside data/shakespeare_char/meta.pkl)\n"
     ]
    }
   ],
   "source": [
    "meta_path = os.path.join(data_dir, 'meta.pkl')\n",
    "meta_vocab_size = None\n",
    "if os.path.exists(meta_path):\n",
    "    with open(meta_path, 'rb') as f:\n",
    "        meta = pickle.load(f)\n",
    "    meta_vocab_size = meta['vocab_size']\n",
    "    print(f\"vocab_size = {meta_vocab_size} (inside {meta_path})\")"
   ]
  },
  {
   "cell_type": "markdown",
   "id": "79ca5ee1",
   "metadata": {},
   "source": [
    "# 2. Load Model"
   ]
  },
  {
   "cell_type": "markdown",
   "id": "49bb05df",
   "metadata": {},
   "source": [
    "## 生成测试数据 \n",
    "下面随机生成一个`[16,256]`维度的张量`X`和`Y`。\n",
    "\n",
    "注意：张量`X`和`Y`表示的是对输入文本进行`tokenize`分词之后得到的张量，其中的每个数字代表的`token id`，所以，张量`X`和`Y`中的每个元素的取值范围必须是`[0, vocab_size]`，在这里就是`[0,65]`。\n",
    "\n",
    "`[16,256]`的意思是16个batch的数据，每个batch中token长度为256，也就是`[batch_size, token_num]`"
   ]
  },
  {
   "cell_type": "code",
   "execution_count": 12,
   "id": "f657d57a",
   "metadata": {},
   "outputs": [],
   "source": [
    "device = 'cpu'\n",
    "X = torch.randint(0,65,(16,256)).to(device)\n",
    "targets = torch.randint(0,65,(16,256)).to(device)"
   ]
  },
  {
   "cell_type": "markdown",
   "id": "3d577780",
   "metadata": {},
   "source": [
    "## 配置测试模型\n",
    "下面配置一个层数`n_layer=2`, `batch_size=16`, `n_embd=128`的模型，表示`DecoderLayer`只有2层，每个`token`会被 `Embedding`成128维。"
   ]
  },
  {
   "cell_type": "code",
   "execution_count": 13,
   "id": "c2259c62",
   "metadata": {},
   "outputs": [
    {
     "name": "stdout",
     "output_type": "stream",
     "text": [
      "number of parameters: 0.40M\n",
      "GPT(\n",
      "  (transformer): ModuleDict(\n",
      "    (wte): Embedding(65, 128)\n",
      "    (wpe): Embedding(1024, 128)\n",
      "    (drop): Dropout(p=0.1, inplace=False)\n",
      "    (h): ModuleList(\n",
      "      (0-1): 2 x Block(\n",
      "        (ln_1): LayerNorm()\n",
      "        (attn): CausalSelfAttention(\n",
      "          (c_attn): Linear(in_features=128, out_features=384, bias=False)\n",
      "          (c_proj): Linear(in_features=128, out_features=128, bias=False)\n",
      "          (attn_dropout): Dropout(p=0.1, inplace=False)\n",
      "          (resid_dropout): Dropout(p=0.1, inplace=False)\n",
      "        )\n",
      "        (ln_2): LayerNorm()\n",
      "        (mlp): MLP(\n",
      "          (c_fc): Linear(in_features=128, out_features=512, bias=False)\n",
      "          (gelu): GELU(approximate='none')\n",
      "          (c_proj): Linear(in_features=512, out_features=128, bias=False)\n",
      "          (dropout): Dropout(p=0.1, inplace=False)\n",
      "        )\n",
      "      )\n",
      "    )\n",
      "    (ln_f): LayerNorm()\n",
      "  )\n",
      "  (lm_head): Linear(in_features=128, out_features=65, bias=False)\n",
      ")\n"
     ]
    }
   ],
   "source": [
    "# class GPTConfig:\n",
    "batch_size = 16 \n",
    "block_size = 1024  # lenght\n",
    "n_layer = 2\n",
    "n_head = 4\n",
    "n_embd = 128\n",
    "\n",
    "model_args = dict(n_layer=n_layer, n_head=n_head, n_embd=n_embd, block_size=1024,\n",
    "                bias=bias, vocab_size=None, dropout=dropout) # start with model_args from command line\n",
    "\n",
    "if meta_vocab_size is None:\n",
    "    print(\"defaulting to vocab_size of GPT-2 to 50304 (50257 rounded up for efficiency)\")\n",
    "model_args['vocab_size'] = meta_vocab_size if meta_vocab_size is not None else 50304\n",
    "gpt_config = GPTConfig(**model_args)\n",
    "model = GPT(gpt_config).to(device)\n",
    "print(model)"
   ]
  },
  {
   "cell_type": "markdown",
   "id": "66820c7c",
   "metadata": {},
   "source": [
    "## 进行一次前向传播\n",
    "下面使用生成的张量`X`进行一次前向传播计算。会逐步打印出前向计算的结果，可以看到数据在前向计算过程中的变化。\n",
    "\n",
    "前向推理的过程就是`GPT`模型中`forward`函数的执行过程，下面也是对`forward`函数的逐行解读。"
   ]
  },
  {
   "cell_type": "code",
   "execution_count": 14,
   "id": "71910631",
   "metadata": {},
   "outputs": [
    {
     "name": "stdout",
     "output_type": "stream",
     "text": [
      "Embedding(1024, 128)\n",
      "torch.Size([16, 256])\n"
     ]
    }
   ],
   "source": [
    "print(model.transformer.wpe)\n",
    "print(X.shape)"
   ]
  },
  {
   "cell_type": "markdown",
   "id": "6dbf6515",
   "metadata": {},
   "source": [
    "下面先使用输入`X`进行一次`token embedding`计算，得到的维度为`[16, 256, 128]`，即`[batch_size, token_num, embedding_size]`，每个`token`编码成128维。然后计算每个token的位置信息，这里使用最简单的位置信息计算方式，直接将序号作为位置信息`pos`，通过`model.transformer.wpe`将位置信息`embedding`之后，加入到`token_embedding`当中。\n",
    "\n",
    "建议细看一下上面`GPT`类中的`forward`函数。"
   ]
  },
  {
   "cell_type": "code",
   "execution_count": 15,
   "id": "c72bfb9e",
   "metadata": {},
   "outputs": [
    {
     "name": "stdout",
     "output_type": "stream",
     "text": [
      "token_embedding: torch.Size([16, 256, 128])\n",
      "词嵌入向量维n_embd =  128\n",
      "tok_emb: torch.Size([16, 256, 128])\n",
      "pos_emb: torch.Size([256, 128])\n",
      "Embedding完成之后的输入: torch.Size([16, 256, 128])\n"
     ]
    }
   ],
   "source": [
    "batch_size, token_num = X.size()\n",
    "# forward the GPT model itself\n",
    "token_embedding = model.transformer.wte(X) # token embeddings of shape (b, t, n_embd)\n",
    "print('token_embedding:', token_embedding.shape)\n",
    "\n",
    "pos = torch.arange(0, token_num, dtype=torch.long) # shape (t)\n",
    "pos_embedding = model.transformer.wpe(pos) # position embeddings of shape (t, n_embd)\n",
    "print('词嵌入向量维n_embd = ', n_embd)\n",
    "print('tok_emb:', token_embedding.shape)\n",
    "print('pos_emb:', pos_embedding.shape)\n",
    "x = model.transformer.drop(token_embedding + pos_embedding)\n",
    "print('Embedding完成之后的输入:', x.shape)"
   ]
  },
  {
   "cell_type": "markdown",
   "id": "8e15eefb",
   "metadata": {},
   "source": [
    "下面来看在`DecoderLayer`中的计算过程，也就是`CausalSelfAttention`和`MLP`部分。这里定义的模型是只有2层的Decoder模型，直接输出` model.transformer.h`可以看到模型结构。"
   ]
  },
  {
   "cell_type": "code",
   "execution_count": 16,
   "id": "2b2d709d",
   "metadata": {},
   "outputs": [
    {
     "name": "stdout",
     "output_type": "stream",
     "text": [
      "decoder layers: ModuleList(\n",
      "  (0-1): 2 x Block(\n",
      "    (ln_1): LayerNorm()\n",
      "    (attn): CausalSelfAttention(\n",
      "      (c_attn): Linear(in_features=128, out_features=384, bias=False)\n",
      "      (c_proj): Linear(in_features=128, out_features=128, bias=False)\n",
      "      (attn_dropout): Dropout(p=0.1, inplace=False)\n",
      "      (resid_dropout): Dropout(p=0.1, inplace=False)\n",
      "    )\n",
      "    (ln_2): LayerNorm()\n",
      "    (mlp): MLP(\n",
      "      (c_fc): Linear(in_features=128, out_features=512, bias=False)\n",
      "      (gelu): GELU(approximate='none')\n",
      "      (c_proj): Linear(in_features=512, out_features=128, bias=False)\n",
      "      (dropout): Dropout(p=0.1, inplace=False)\n",
      "    )\n",
      "  )\n",
      ")\n",
      "layer:0, decoder x: torch.Size([16, 256, 128])\n",
      "layer:1, decoder x: torch.Size([16, 256, 128])\n"
     ]
    }
   ],
   "source": [
    "print('decoder layers:', model.transformer.h)\n",
    "for i, block in enumerate(model.transformer.h):\n",
    "    x = block(x)\n",
    "    print(f'layer:{i}, decoder x: {x.shape}')\n"
   ]
  },
  {
   "cell_type": "markdown",
   "id": "743af6f3",
   "metadata": {},
   "source": [
    "经过两次`DecoderLayer`计算之后，还需要经过一次全连接层得到最终的模型输出，这就是`model.transformer.ln_f`部分。"
   ]
  },
  {
   "cell_type": "code",
   "execution_count": 17,
   "id": "3fb80e5b",
   "metadata": {},
   "outputs": [
    {
     "name": "stdout",
     "output_type": "stream",
     "text": [
      "ln_f x: torch.Size([16, 256, 128])\n"
     ]
    }
   ],
   "source": [
    "x = model.transformer.ln_f(x)\n",
    "print('ln_f x:', x.shape)"
   ]
  },
  {
   "cell_type": "markdown",
   "id": "ce937e00",
   "metadata": {},
   "source": [
    "可以看到，经过了最后一次的全连接层之后，输出的维度依旧是`[16, 256, 128]`，也就是每个token依旧是编码成128来表示，但是模型真正应该输出的是每个token的`token id`，也就是输出维度为`[16, 256]`，所以这里还需要进行一次解码计算，将128维的`token embedding`向量，解码成`token id`。这就是`GPT`模型中`lm_head`的作用。\n"
   ]
  },
  {
   "cell_type": "markdown",
   "id": "138ef56c",
   "metadata": {},
   "source": [
    "### lm_head\n",
    "`lm_head`与`model.transformer.wte`一样，都是一个线性的Embedding层，用来从**隐藏状态**预测词汇表上的概率分布。并且`lm_head`与`model.transformer.wte`的权重是共享的，是共用一套权重，称为权重共享技术（Weight Tying）。\n",
    "\n",
    "为什么要将两者的权重进行共享，即`model.transformer.wte.weight = model.lm_head.weight`？\n",
    "1. `model.transformer.wte.weight`是词嵌入层的权重矩阵，用于将输入的`token`索引编码到相应的向量表示。而`model.lm_head.weight`是解码层的权重矩阵。在GPT以及其他一些Transformer-based模型中，常常采用“权重共享”（Weight Tying）的技术，即将词嵌入层的权重与解码层的权重共享，理由如下：\n",
    "\n",
    "- **减少参数数量**：共享权重可以降低模型参数总数，特别是在词汇表很大的情况下，显著减小模型的规模。\n",
    "- **正则化效果**：权重绑带可以被视为一种隐含的正则化技术，它限制了解码器在学习新的映射时的自由度，鼓励模型在嵌入空间中学习到更通用的表示。\n",
    "- **理论上的一致性**：在语言模型中，词嵌入应该反映词在语境中的含义和用法，而解码器的任务正是基于先前的上下文预测下一个可能出现的词。让这两个层共享权重有助于模型在学习词嵌入时同时考虑到生成任务的需求。"
   ]
  },
  {
   "cell_type": "markdown",
   "id": "7f2b4771",
   "metadata": {},
   "source": [
    "在前向计算过程中，如果给出了`targets`，则说明是训练模式，需要计算loss。否则是推理模式，不需要计算loss。\n",
    "\n",
    "注意：`lm_head`的计算结果`logits`的维度为`[16, 256, 65]`，说明`lm_head`是将每个token的embedding表示，映射到词表中的概率分布，对于一个张量`[1,256]`，计算完`lm_head`之后为`[1,65]`，其中概率最大的tokekn就是这个最终预测的结果。"
   ]
  },
  {
   "cell_type": "code",
   "execution_count": 18,
   "id": "1e78c0a0",
   "metadata": {},
   "outputs": [
    {
     "name": "stdout",
     "output_type": "stream",
     "text": [
      "tensor(4.2190, grad_fn=<NllLossBackward0>)\n",
      "logits: torch.Size([16, 256, 65])\n"
     ]
    }
   ],
   "source": [
    "if targets is not None:\n",
    "    # if we are given some desired targets also calculate the loss\n",
    "    logits = model.lm_head(x)\n",
    "    loss = F.cross_entropy(logits.view(-1, logits.size(-1)), targets.view(-1), ignore_index=-1)\n",
    "    print(loss)\n",
    "else:\n",
    "    # inference-time mini-optimization: only forward the lm_head on the very last position\n",
    "    logits = model.lm_head(x[:, [-1], :]) # note: using list [-1] to preserve the time dim\n",
    "    loss = None\n",
    "print('logits:', logits.shape)"
   ]
  },
  {
   "cell_type": "markdown",
   "id": "f99c3f95",
   "metadata": {},
   "source": [
    "## 在线推理过程generate\n",
    "`forward`函数在训练和推理过程中都会用到，但是`forward`函数最后经过`lm_head`后，得到的是词表的概率分布，输出维度为`[16, 256, 65]`，而不是一串连续的解码完成的文本。生成字符输出则主要是在`generate`函数中完成。\n",
    "\n",
    "接下来重点讲的就是`generate`函数。"
   ]
  },
  {
   "cell_type": "code",
   "execution_count": 19,
   "id": "29083c3b",
   "metadata": {},
   "outputs": [],
   "source": [
    "def generate(self, idx, max_new_tokens, temperature=1.0, top_k=None):\n",
    "    \"\"\"\n",
    "    Take a conditioning sequence of indices idx (LongTensor of shape (b,t)) and complete\n",
    "    the sequence max_new_tokens times, feeding the predictions back into the model each time.\n",
    "    Most likely you'll want to make sure to be in model.eval() mode of operation for this.\n",
    "    \"\"\"\n",
    "    for _ in range(max_new_tokens):\n",
    "        # if the sequence context is growing too long we must crop it at block_size\n",
    "        idx_cond = idx if idx.size(1) <= self.config.block_size else idx[:, -self.config.block_size:]\n",
    "        # forward the model to get the logits for the index in the sequence\n",
    "        logits, _ = self(idx_cond)\n",
    "        # pluck the logits at the final step and scale by desired temperature\n",
    "        logits = logits[:, -1, :] / temperature\n",
    "        # optionally crop the logits to only the top k options\n",
    "        if top_k is not None:\n",
    "            v, _ = torch.topk(logits, min(top_k, logits.size(-1)))\n",
    "            logits[logits < v[:, [-1]]] = -float('Inf')\n",
    "        # apply softmax to convert logits to (normalized) probabilities\n",
    "        probs = F.softmax(logits, dim=-1)\n",
    "        # sample from the distribution\n",
    "        idx_next = torch.multinomial(probs, num_samples=1)\n",
    "        # append sampled index to the running sequence and continue\n",
    "        idx = torch.cat((idx, idx_next), dim=1)\n",
    "\n",
    "    return idx"
   ]
  },
  {
   "cell_type": "markdown",
   "id": "37efe6ee",
   "metadata": {},
   "source": [
    "过程解读如下：\n",
    "1. idx输入（维度为`[batch_size, token_num]`）模型，进行一次前向传播，得到下一个词在词表中的概率分布。\n",
    "2. 使用`temperature`对最新生成的概率分布进行缩放\n",
    "3. 使用`top_k`，只取`top_k`个概率分布，其余的设为`-inf`\n",
    "4. 经过一次`softmax`，将概率归一化到`[0-1]`之间。\n",
    "5. `torch.multinomial`函数是用于根据概率分布进行采样的工具。它接受一个包含概率的张量作为输入，并返回一个张量，其中每行包含从相应输入行的多项式概率分布中采样的 `num_samples` 个索引。\n",
    "6. 和输入拼接，然后返回\n",
    "\n",
    "`torch.multinomial`函数的解读见：[torch.multinomial](../../1-LLM-base-fundamentals/1.6-Pytorch常用函数/torch_multinomial.ipynb)"
   ]
  },
  {
   "cell_type": "markdown",
   "id": "809b98f0",
   "metadata": {},
   "source": [
    "下面逐步来看运行过程。"
   ]
  },
  {
   "cell_type": "code",
   "execution_count": 31,
   "id": "3050c971",
   "metadata": {},
   "outputs": [
    {
     "name": "stdout",
     "output_type": "stream",
     "text": [
      "预测词表大小 65\n",
      "输入X: tensor([[35, 22,  7,  ...,  1, 34, 13],\n",
      "        [ 5,  8,  6,  ..., 60, 14, 62],\n",
      "        [44, 29, 53,  ..., 59, 23, 63],\n",
      "        ...,\n",
      "        [ 5,  4, 63,  ..., 42, 59, 37],\n",
      "        [33, 55, 28,  ...,  3, 21, 25],\n",
      "        [ 0, 39, 17,  ..., 40, 61, 32]])\n",
      "输入X长度: torch.Size([16, 256])\n",
      "输出Logits: torch.Size([16, 1, 65])\n",
      "temperature缩放前：tensor([-0.0529, -0.2387,  0.3881, -0.1474,  0.0090,  0.0731, -0.6404, -0.4169,\n",
      "        -0.3666, -0.1400], grad_fn=<SliceBackward0>)\n",
      "输出Logits: torch.Size([16, 65])\n",
      "temperature缩放后：tensor([-0.0556, -0.2512,  0.4086, -0.1551,  0.0094,  0.0769, -0.6741, -0.4388,\n",
      "        -0.3859, -0.1473], grad_fn=<SliceBackward0>)\n",
      "保留top_k个之后：tensor([  -inf,   -inf, 0.4086,   -inf,   -inf,   -inf,   -inf,   -inf,   -inf,\n",
      "          -inf,   -inf, 0.4623,   -inf, 1.1983,   -inf,   -inf,   -inf, 0.3870,\n",
      "        0.2944,   -inf,   -inf,   -inf,   -inf,   -inf, 0.3626,   -inf,   -inf,\n",
      "          -inf,   -inf,   -inf,   -inf,   -inf,   -inf,   -inf,   -inf,   -inf,\n",
      "          -inf,   -inf, 0.2947,   -inf,   -inf,   -inf,   -inf,   -inf,   -inf,\n",
      "          -inf,   -inf,   -inf,   -inf,   -inf,   -inf,   -inf, 0.3049,   -inf,\n",
      "          -inf, 0.3701,   -inf, 0.4147,   -inf,   -inf,   -inf,   -inf,   -inf,\n",
      "          -inf,   -inf], grad_fn=<SliceBackward0>)\n",
      "输出概率分布: torch.Size([16, 65])\n",
      "输出下一个Token: torch.Size([16, 1])\n",
      "tensor([[52],\n",
      "        [30],\n",
      "        [10],\n",
      "        [18],\n",
      "        [39],\n",
      "        [64],\n",
      "        [30],\n",
      "        [52],\n",
      "        [55],\n",
      "        [64],\n",
      "        [25],\n",
      "        [10],\n",
      "        [33],\n",
      "        [11],\n",
      "        [59],\n",
      "        [20]])\n",
      "输出token长度: 257\n",
      "输出token序列: tensor([[35, 22,  7,  ..., 34, 13, 52],\n",
      "        [ 5,  8,  6,  ..., 14, 62, 30],\n",
      "        [44, 29, 53,  ..., 23, 63, 10],\n",
      "        ...,\n",
      "        [ 5,  4, 63,  ..., 59, 37, 11],\n",
      "        [33, 55, 28,  ..., 21, 25, 59],\n",
      "        [ 0, 39, 17,  ..., 61, 32, 20]])\n",
      "输出Logits: torch.Size([16, 1, 65])\n",
      "temperature缩放前：tensor([-0.1151,  0.0402,  0.3562, -0.3937,  0.1756, -0.0776, -0.3526, -0.4267,\n",
      "        -0.1618,  0.0959], grad_fn=<SliceBackward0>)\n",
      "输出Logits: torch.Size([16, 65])\n",
      "temperature缩放后：tensor([-0.1212,  0.0423,  0.3749, -0.4144,  0.1848, -0.0817, -0.3712, -0.4492,\n",
      "        -0.1703,  0.1009], grad_fn=<SliceBackward0>)\n",
      "保留top_k个之后：tensor([  -inf,   -inf, 0.3749,   -inf,   -inf,   -inf,   -inf,   -inf,   -inf,\n",
      "          -inf,   -inf,   -inf,   -inf, 1.0303,   -inf,   -inf,   -inf, 0.4382,\n",
      "        0.2961,   -inf,   -inf,   -inf,   -inf,   -inf, 0.3313,   -inf,   -inf,\n",
      "          -inf,   -inf,   -inf,   -inf,   -inf,   -inf, 0.3505,   -inf,   -inf,\n",
      "          -inf,   -inf, 0.3047,   -inf,   -inf,   -inf,   -inf,   -inf,   -inf,\n",
      "        0.2953,   -inf,   -inf,   -inf,   -inf,   -inf,   -inf,   -inf,   -inf,\n",
      "          -inf, 0.4748,   -inf, 0.4103,   -inf,   -inf,   -inf,   -inf,   -inf,\n",
      "          -inf,   -inf], grad_fn=<SliceBackward0>)\n",
      "输出概率分布: torch.Size([16, 65])\n",
      "输出下一个Token: torch.Size([16, 1])\n",
      "tensor([[13],\n",
      "        [11],\n",
      "        [17],\n",
      "        [59],\n",
      "        [11],\n",
      "        [51],\n",
      "        [30],\n",
      "        [10],\n",
      "        [18],\n",
      "        [61],\n",
      "        [34],\n",
      "        [55],\n",
      "        [57],\n",
      "        [11],\n",
      "        [33],\n",
      "        [61]])\n",
      "输出token长度: 258\n",
      "输出token序列: tensor([[35, 22,  7,  ..., 13, 52, 13],\n",
      "        [ 5,  8,  6,  ..., 62, 30, 11],\n",
      "        [44, 29, 53,  ..., 63, 10, 17],\n",
      "        ...,\n",
      "        [ 5,  4, 63,  ..., 37, 11, 11],\n",
      "        [33, 55, 28,  ..., 25, 59, 33],\n",
      "        [ 0, 39, 17,  ..., 32, 20, 61]])\n"
     ]
    }
   ],
   "source": [
    "# Greedy Generation\n",
    "idx = X\n",
    "print(\"预测词表大小\", model.config.vocab_size) # BPE词表\n",
    "print(\"输入X:\", idx)\n",
    "print(\"输入X长度:\", idx.shape)\n",
    "temperature = 0.95\n",
    "top_k = 10\n",
    "for _ in range(2):\n",
    "    logits, _ = model(X)\n",
    "    print('输出Logits:', logits.shape)   \n",
    "    print(f\"temperature缩放前：{logits[0, -1, :10]}\")\n",
    "    logits = logits[:, -1, :] / temperature\n",
    "    print('输出Logits:', logits.shape) \n",
    "    print(f\"temperature缩放后：{logits[0, :10]}\")\n",
    "    if top_k is not None:\n",
    "        v, _ = torch.topk(logits, min(top_k, logits.size(-1)))\n",
    "        logits[logits < v[:, [-1]]] = -float('Inf')\n",
    "    print(f\"保留top_k个之后：{logits[0, :]}\")\n",
    "        \n",
    "    probs = F.softmax(logits, dim=-1)\n",
    "    print('输出概率分布:', probs.shape)\n",
    "    # idx_next = torch.argmax(probs , dim=-1)  # 这里取概率最大的作为输出\n",
    "    idx_next = torch.multinomial(probs, num_samples=1)\n",
    "    print('输出下一个Token:', idx_next.shape)\n",
    "    print(idx_next)\n",
    "    idx = torch.cat((idx, idx_next), dim=1)\n",
    "    # idx = idx_next\n",
    "    print(\"输出token长度:\", len(idx[0]))\n",
    "    print(\"输出token序列:\", idx)\n",
    "    \n",
    "    "
   ]
  },
  {
   "cell_type": "markdown",
   "id": "8235e143",
   "metadata": {},
   "source": [
    "思考：为什么`Temperature`越大，生成的结果越随机：\n",
    "\n",
    "`Softmax`公式为：\n",
    "$$softmax(z_i)=\\frac{\\epsilon^{z_i / T}}{\\sum_j \\epsilon^{z_j / T}}$$\n",
    "在这个修改后的公式中：\n",
    "- 当 T = 1 时，它就是普通的 softmax 函数。\n",
    "- 当 T > 1 时，分数之间的差异会减小，导致概率分布更加均匀（增加随机性和创新性），T越大，概率差异越小。\n",
    "- 当 T < 1 时，分数之间的差异会增大，使得高分数的词的概率远远高于低分数的词（增加确定性和预测性）。"
   ]
  },
  {
   "cell_type": "markdown",
   "id": "d7078f43",
   "metadata": {},
   "source": [
    "## 使用Huggingface权重\n",
    "下面使用Huggingface中的`gpt2`权重来进行推理。模型下载：[openai-community/gpt2](https://huggingface.co/openai-community/gpt2)"
   ]
  },
  {
   "cell_type": "code",
   "execution_count": null,
   "id": "236b8072",
   "metadata": {},
   "outputs": [],
   "source": [
    "from transformers import GPT2Tokenizer, GPT2Model\n",
    "tokenizer = GPT2Tokenizer.from_pretrained('gpt2')\n",
    "model = GPT2Model.from_pretrained('gpt2')\n",
    "text = \"Replace me by any text you'd like.\"\n",
    "encoded_input = tokenizer(text, return_tensors='pt')\n",
    "output = model(**encoded_input)\n"
   ]
  }
 ],
 "metadata": {
  "kernelspec": {
   "display_name": "Python 3 (ipykernel)",
   "language": "python",
   "name": "python3"
  },
  "language_info": {
   "codemirror_mode": {
    "name": "ipython",
    "version": 3
   },
   "file_extension": ".py",
   "mimetype": "text/x-python",
   "name": "python",
   "nbconvert_exporter": "python",
   "pygments_lexer": "ipython3",
   "version": "3.10.15"
  },
  "toc": {
   "base_numbering": 1,
   "nav_menu": {},
   "number_sections": true,
   "sideBar": true,
   "skip_h1_title": false,
   "title_cell": "Table of Contents",
   "title_sidebar": "Contents",
   "toc_cell": false,
   "toc_position": {},
   "toc_section_display": true,
   "toc_window_display": false
  }
 },
 "nbformat": 4,
 "nbformat_minor": 5
}
